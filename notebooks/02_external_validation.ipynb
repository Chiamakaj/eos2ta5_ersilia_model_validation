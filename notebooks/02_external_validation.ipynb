{
 "cells": [
  {
   "cell_type": "markdown",
   "metadata": {},
   "source": [
    "# Model validation with external data\n",
    "In this notebook I will try to get the performance of the model on an external dataset I have obtained from a public repository, like ChEMBL, PubChem, Therapeutics Data Commons or MoleculeNet.\n",
    "\n",
    "I need to find a dataset for which experimental data exactly as the one used to train my model of interest is available."
   ]
  },
  {
   "cell_type": "code",
   "execution_count": 6,
   "metadata": {},
   "outputs": [],
   "source": [
    "# Import libraries\n",
    "import matplotlib.pyplot as plt\n",
    "import pandas as pd\n",
    "import numpy as np\n",
    "import csv\n",
    "\n",
    "import warnings\n",
    "\n",
    "from sklearn.metrics import roc_auc_score, roc_curve\n",
    "from sklearn.metrics import confusion_matrix\n",
    "from sklearn.metrics import balanced_accuracy_score\n",
    "from sklearn.metrics import matthews_corrcoef\n",
    "from sklearn.manifold import TSNE\n",
    "from prettytable import PrettyTable\n",
    "from rdkit import Chem\n",
    "from rdkit import DataStructs\n",
    "from rdkit.Chem import AllChem\n",
    "from rdkit.Chem import inchi\n",
    "\n",
    "warnings.filterwarnings('ignore')\n",
    "\n",
    "# To gain access function in src directory\n",
    "%run ../src/smiles_processing.py"
   ]
  },
  {
   "cell_type": "code",
   "execution_count": 7,
   "metadata": {},
   "outputs": [
    {
     "data": {
      "text/html": [
       "<div>\n",
       "<style scoped>\n",
       "    .dataframe tbody tr th:only-of-type {\n",
       "        vertical-align: middle;\n",
       "    }\n",
       "\n",
       "    .dataframe tbody tr th {\n",
       "        vertical-align: top;\n",
       "    }\n",
       "\n",
       "    .dataframe thead th {\n",
       "        text-align: right;\n",
       "    }\n",
       "</style>\n",
       "<table border=\"1\" class=\"dataframe\">\n",
       "  <thead>\n",
       "    <tr style=\"text-align: right;\">\n",
       "      <th></th>\n",
       "      <th>InChl Key</th>\n",
       "      <th>SMILES</th>\n",
       "      <th>Activity</th>\n",
       "      <th>Database</th>\n",
       "      <th>standardized inchikey</th>\n",
       "    </tr>\n",
       "  </thead>\n",
       "  <tbody>\n",
       "    <tr>\n",
       "      <th>0</th>\n",
       "      <td>FKUXHLWBOQAISV-UHFFFAOYSA-N</td>\n",
       "      <td>CN(CCO)CCN1CCCc2cc(NC(=N)c3cccs3)ccc21</td>\n",
       "      <td>1</td>\n",
       "      <td>ChEMBL</td>\n",
       "      <td></td>\n",
       "    </tr>\n",
       "    <tr>\n",
       "      <th>1</th>\n",
       "      <td>GDMWZTBOBNMXTL-UHFFFAOYSA-N</td>\n",
       "      <td>CCN(C)CCN1CCCc2cc(NC(=N)c3cccs3)ccc21</td>\n",
       "      <td>1</td>\n",
       "      <td>ChEMBL</td>\n",
       "      <td></td>\n",
       "    </tr>\n",
       "    <tr>\n",
       "      <th>2</th>\n",
       "      <td>VWNMWKSURFWKAL-HXOBKFHXSA-N</td>\n",
       "      <td>COc1ccc2nccc(C(=O)CC[C@@H]3CCN(CC#Cc4cc(F)cc(F...</td>\n",
       "      <td>1</td>\n",
       "      <td>ChEMBL</td>\n",
       "      <td></td>\n",
       "    </tr>\n",
       "    <tr>\n",
       "      <th>3</th>\n",
       "      <td>ONYWALXTZFPKAS-XHCCPWGMSA-N</td>\n",
       "      <td>CC1CCN([C@H](c2ccc(F)cc2)c2ccc([C@@H](C)C(=O)O...</td>\n",
       "      <td>0</td>\n",
       "      <td>ChEMBL</td>\n",
       "      <td></td>\n",
       "    </tr>\n",
       "    <tr>\n",
       "      <th>4</th>\n",
       "      <td>ONYWALXTZFPKAS-PPHZAIPVSA-N</td>\n",
       "      <td>CC1CCN([C@@H](c2ccc(F)cc2)c2ccc([C@H](C)C(=O)O...</td>\n",
       "      <td>1</td>\n",
       "      <td>ChEMBL</td>\n",
       "      <td></td>\n",
       "    </tr>\n",
       "  </tbody>\n",
       "</table>\n",
       "</div>"
      ],
      "text/plain": [
       "                     InChl Key  \\\n",
       "0  FKUXHLWBOQAISV-UHFFFAOYSA-N   \n",
       "1  GDMWZTBOBNMXTL-UHFFFAOYSA-N   \n",
       "2  VWNMWKSURFWKAL-HXOBKFHXSA-N   \n",
       "3  ONYWALXTZFPKAS-XHCCPWGMSA-N   \n",
       "4  ONYWALXTZFPKAS-PPHZAIPVSA-N   \n",
       "\n",
       "                                              SMILES  Activity Database  \\\n",
       "0             CN(CCO)CCN1CCCc2cc(NC(=N)c3cccs3)ccc21         1   ChEMBL   \n",
       "1              CCN(C)CCN1CCCc2cc(NC(=N)c3cccs3)ccc21         1   ChEMBL   \n",
       "2  COc1ccc2nccc(C(=O)CC[C@@H]3CCN(CC#Cc4cc(F)cc(F...         1   ChEMBL   \n",
       "3  CC1CCN([C@H](c2ccc(F)cc2)c2ccc([C@@H](C)C(=O)O...         0   ChEMBL   \n",
       "4  CC1CCN([C@@H](c2ccc(F)cc2)c2ccc([C@H](C)C(=O)O...         1   ChEMBL   \n",
       "\n",
       "  standardized inchikey  \n",
       "0                        \n",
       "1                        \n",
       "2                        \n",
       "3                        \n",
       "4                        "
      ]
     },
     "execution_count": 7,
     "metadata": {},
     "output_type": "execute_result"
    }
   ],
   "source": [
    "# Read the validation input file\n",
    "model_val_file = \"../data/model_val_set.csv\"\n",
    "val_data = pd.read_csv(model_val_file, header=0)\n",
    "val_smiles = val_data[\"SMILES\"].tolist()\n",
    "val_data[\"standardized inchikey\"] = \"\"\n",
    "\n",
    "# Extract Training set\n",
    "input_train_file = \"../data/train_validation_cardio_tox_data.csv\"\n",
    "input_train = pd.read_csv(input_train_file, header=0, usecols=[1])\n",
    "input_train[\"inchikey\"] = \"\"\n",
    "train_rows = input_train[\"smiles\"].tolist()"
   ]
  },
  {
   "cell_type": "code",
   "execution_count": 8,
   "metadata": {},
   "outputs": [
    {
     "data": {
      "text/html": [
       "<div>\n",
       "<style scoped>\n",
       "    .dataframe tbody tr th:only-of-type {\n",
       "        vertical-align: middle;\n",
       "    }\n",
       "\n",
       "    .dataframe tbody tr th {\n",
       "        vertical-align: top;\n",
       "    }\n",
       "\n",
       "    .dataframe thead th {\n",
       "        text-align: right;\n",
       "    }\n",
       "</style>\n",
       "<table border=\"1\" class=\"dataframe\">\n",
       "  <thead>\n",
       "    <tr style=\"text-align: right;\">\n",
       "      <th></th>\n",
       "      <th>smiles</th>\n",
       "      <th>inchikey</th>\n",
       "    </tr>\n",
       "  </thead>\n",
       "  <tbody>\n",
       "    <tr>\n",
       "      <th>0</th>\n",
       "      <td>Fc1ccc(-n2cc(NCCN3CCCCC3)nn2)cc1F</td>\n",
       "      <td>PMWZSLRPVRCNKM-UHFFFAOYSA-N</td>\n",
       "    </tr>\n",
       "    <tr>\n",
       "      <th>1</th>\n",
       "      <td>COc1cc(N2Cc3ccc(Sc4ccc(F)cc4)nc3C2=O)ccc1OCCN1...</td>\n",
       "      <td>IOVNPTLMMFSPCO-UHFFFAOYSA-N</td>\n",
       "    </tr>\n",
       "    <tr>\n",
       "      <th>2</th>\n",
       "      <td>CCOC(=O)[C@H]1CC[C@@H](N2CC(NC(=O)CNc3nn(C(N)=...</td>\n",
       "      <td>BSPCGOZVENCINN-AKAXFMLLSA-N</td>\n",
       "    </tr>\n",
       "    <tr>\n",
       "      <th>3</th>\n",
       "      <td>N[C@@H](Cn1c(=O)cnc2ccc(F)cc21)C1CCC(NCc2ccc3c...</td>\n",
       "      <td>UQBOMAVTFFNGLT-PVARCSIZSA-N</td>\n",
       "    </tr>\n",
       "    <tr>\n",
       "      <th>4</th>\n",
       "      <td>O=C(NC1COc2cccc(-c3ccnc(CO)c3)c2C1)c1ccc(OCC(F...</td>\n",
       "      <td>DEYZGKXTVSBRIY-UHFFFAOYSA-N</td>\n",
       "    </tr>\n",
       "  </tbody>\n",
       "</table>\n",
       "</div>"
      ],
      "text/plain": [
       "                                              smiles  \\\n",
       "0                  Fc1ccc(-n2cc(NCCN3CCCCC3)nn2)cc1F   \n",
       "1  COc1cc(N2Cc3ccc(Sc4ccc(F)cc4)nc3C2=O)ccc1OCCN1...   \n",
       "2  CCOC(=O)[C@H]1CC[C@@H](N2CC(NC(=O)CNc3nn(C(N)=...   \n",
       "3  N[C@@H](Cn1c(=O)cnc2ccc(F)cc21)C1CCC(NCc2ccc3c...   \n",
       "4  O=C(NC1COc2cccc(-c3ccnc(CO)c3)c2C1)c1ccc(OCC(F...   \n",
       "\n",
       "                      inchikey  \n",
       "0  PMWZSLRPVRCNKM-UHFFFAOYSA-N  \n",
       "1  IOVNPTLMMFSPCO-UHFFFAOYSA-N  \n",
       "2  BSPCGOZVENCINN-AKAXFMLLSA-N  \n",
       "3  UQBOMAVTFFNGLT-PVARCSIZSA-N  \n",
       "4  DEYZGKXTVSBRIY-UHFFFAOYSA-N  "
      ]
     },
     "execution_count": 8,
     "metadata": {},
     "output_type": "execute_result"
    }
   ],
   "source": [
    "# Create inchikey for train set\n",
    "inchikey_train_list = []\n",
    "\n",
    "# Calculate each Inchikey per molecule\n",
    "for smiles in input_train.iloc[:, 0]:\n",
    "    mol_train = Chem.MolFromSmiles(smiles)\n",
    "    inchikey_train = inchi.MolToInchiKey(mol_train)\n",
    "    inchikey_train_list.append(inchikey_train)\n",
    "    \n",
    "inchikey_train_list\n",
    "\n",
    "input_train[\"inchikey\"] = inchikey_train_list"
   ]
  },
  {
   "cell_type": "code",
   "execution_count": 9,
   "metadata": {},
   "outputs": [
    {
     "data": {
      "text/html": [
       "<div>\n",
       "<style scoped>\n",
       "    .dataframe tbody tr th:only-of-type {\n",
       "        vertical-align: middle;\n",
       "    }\n",
       "\n",
       "    .dataframe tbody tr th {\n",
       "        vertical-align: top;\n",
       "    }\n",
       "\n",
       "    .dataframe thead th {\n",
       "        text-align: right;\n",
       "    }\n",
       "</style>\n",
       "<table border=\"1\" class=\"dataframe\">\n",
       "  <thead>\n",
       "    <tr style=\"text-align: right;\">\n",
       "      <th></th>\n",
       "      <th>InChl Key</th>\n",
       "      <th>SMILES</th>\n",
       "      <th>Activity</th>\n",
       "      <th>Database</th>\n",
       "      <th>standardized inchikey</th>\n",
       "    </tr>\n",
       "  </thead>\n",
       "  <tbody>\n",
       "    <tr>\n",
       "      <th>0</th>\n",
       "      <td>FKUXHLWBOQAISV-UHFFFAOYSA-N</td>\n",
       "      <td>CN(CCO)CCN1CCCc2cc(NC(=N)c3cccs3)ccc21</td>\n",
       "      <td>1</td>\n",
       "      <td>ChEMBL</td>\n",
       "      <td>FKUXHLWBOQAISV-UHFFFAOYSA-N</td>\n",
       "    </tr>\n",
       "    <tr>\n",
       "      <th>1</th>\n",
       "      <td>GDMWZTBOBNMXTL-UHFFFAOYSA-N</td>\n",
       "      <td>CCN(C)CCN1CCCc2cc(NC(=N)c3cccs3)ccc21</td>\n",
       "      <td>1</td>\n",
       "      <td>ChEMBL</td>\n",
       "      <td>GDMWZTBOBNMXTL-UHFFFAOYSA-N</td>\n",
       "    </tr>\n",
       "    <tr>\n",
       "      <th>2</th>\n",
       "      <td>VWNMWKSURFWKAL-HXOBKFHXSA-N</td>\n",
       "      <td>COc1ccc2nccc(C(=O)CC[C@@H]3CCN(CC#Cc4cc(F)cc(F...</td>\n",
       "      <td>1</td>\n",
       "      <td>ChEMBL</td>\n",
       "      <td>VWNMWKSURFWKAL-HXOBKFHXSA-N</td>\n",
       "    </tr>\n",
       "    <tr>\n",
       "      <th>3</th>\n",
       "      <td>ONYWALXTZFPKAS-XHCCPWGMSA-N</td>\n",
       "      <td>CC1CCN([C@H](c2ccc(F)cc2)c2ccc([C@@H](C)C(=O)O...</td>\n",
       "      <td>0</td>\n",
       "      <td>ChEMBL</td>\n",
       "      <td>ONYWALXTZFPKAS-XHCCPWGMSA-N</td>\n",
       "    </tr>\n",
       "    <tr>\n",
       "      <th>4</th>\n",
       "      <td>ONYWALXTZFPKAS-PPHZAIPVSA-N</td>\n",
       "      <td>CC1CCN([C@@H](c2ccc(F)cc2)c2ccc([C@H](C)C(=O)O...</td>\n",
       "      <td>1</td>\n",
       "      <td>ChEMBL</td>\n",
       "      <td>ONYWALXTZFPKAS-PPHZAIPVSA-N</td>\n",
       "    </tr>\n",
       "  </tbody>\n",
       "</table>\n",
       "</div>"
      ],
      "text/plain": [
       "                     InChl Key  \\\n",
       "0  FKUXHLWBOQAISV-UHFFFAOYSA-N   \n",
       "1  GDMWZTBOBNMXTL-UHFFFAOYSA-N   \n",
       "2  VWNMWKSURFWKAL-HXOBKFHXSA-N   \n",
       "3  ONYWALXTZFPKAS-XHCCPWGMSA-N   \n",
       "4  ONYWALXTZFPKAS-PPHZAIPVSA-N   \n",
       "\n",
       "                                              SMILES  Activity Database  \\\n",
       "0             CN(CCO)CCN1CCCc2cc(NC(=N)c3cccs3)ccc21         1   ChEMBL   \n",
       "1              CCN(C)CCN1CCCc2cc(NC(=N)c3cccs3)ccc21         1   ChEMBL   \n",
       "2  COc1ccc2nccc(C(=O)CC[C@@H]3CCN(CC#Cc4cc(F)cc(F...         1   ChEMBL   \n",
       "3  CC1CCN([C@H](c2ccc(F)cc2)c2ccc([C@@H](C)C(=O)O...         0   ChEMBL   \n",
       "4  CC1CCN([C@@H](c2ccc(F)cc2)c2ccc([C@H](C)C(=O)O...         1   ChEMBL   \n",
       "\n",
       "         standardized inchikey  \n",
       "0  FKUXHLWBOQAISV-UHFFFAOYSA-N  \n",
       "1  GDMWZTBOBNMXTL-UHFFFAOYSA-N  \n",
       "2  VWNMWKSURFWKAL-HXOBKFHXSA-N  \n",
       "3  ONYWALXTZFPKAS-XHCCPWGMSA-N  \n",
       "4  ONYWALXTZFPKAS-PPHZAIPVSA-N  "
      ]
     },
     "execution_count": 9,
     "metadata": {},
     "output_type": "execute_result"
    }
   ],
   "source": [
    "# Create lists to store standardized Inchikey for validation set\n",
    "inchikey_val_list1 = []\n",
    "\n",
    "# Calculate each Inchikey per molecule\n",
    "for smiles in val_data.iloc[:, 1]:\n",
    "    mol_val = Chem.MolFromSmiles(smiles)\n",
    "    inchikey_val = inchi.MolToInchiKey(mol_val)\n",
    "    inchikey_val_list1.append(inchikey_val)\n",
    "    \n",
    "val_data[\"standardized inchikey\"] = inchikey_val_list1"
   ]
  },
  {
   "cell_type": "code",
   "execution_count": 11,
   "metadata": {},
   "outputs": [
    {
     "data": {
      "text/plain": [
       "5206"
      ]
     },
     "execution_count": 11,
     "metadata": {},
     "output_type": "execute_result"
    }
   ],
   "source": [
    "#Remove repeated molecules must be eliminated to avoid bias\n",
    "common_inchikey = val_data[\"standardized inchikey\"].isin(input_train[\"inchikey\"])\n",
    "common_inchikey = val_data[common_inchikey]\n",
    "\n",
    "new_val_data1 = val_data.drop(common_inchikey.index, axis=0)\n",
    "new_val_data1 = new_val_data1.reset_index(drop=True)\n",
    "new_val_data1 = new_val_data1.drop(columns=['Database'])\n",
    "\n",
    "# Create a new dataset\n",
    "ext_validation_set1 = new_val_data1[0:500]\n",
    "\n",
    "len(common_inchikey)"
   ]
  },
  {
   "cell_type": "code",
   "execution_count": 21,
   "metadata": {},
   "outputs": [
    {
     "data": {
      "text/plain": [
       "5025"
      ]
     },
     "execution_count": 21,
     "metadata": {},
     "output_type": "execute_result"
    }
   ],
   "source": [
    "#Remove repeated molecules must be eliminated to avoid bias\n",
    "common_smiles = val_data[\"SMILES\"].isin(input_train[\"smiles\"])\n",
    "common_data = val_data[common_smiles]\n",
    "\n",
    "new_val_data = val_data.drop(common_data.index, axis=0)\n",
    "new_val_data = new_val_data.reset_index(drop=True)\n",
    "new_val_data1 = new_val_data.drop(columns=['Database'])\n",
    "\n",
    "# Create a new dataset\n",
    "ext_validation_set = new_val_data1[0:500]\n",
    "\n",
    "len(common_data)"
   ]
  },
  {
   "cell_type": "code",
   "execution_count": 23,
   "metadata": {},
   "outputs": [],
   "source": [
    "# Extract smiles\n",
    "ext_validation_data = ext_validation_set1[\"SMILES\"].tolist()\n",
    "\n",
    "# Standardise smile\n",
    "ext_stand_smile = standardise_smiles(ext_validation_data)"
   ]
  },
  {
   "cell_type": "code",
   "execution_count": 24,
   "metadata": {},
   "outputs": [],
   "source": [
    "# Create lists to store Inchikey\n",
    "inchikey_val_list = []\n",
    "\n",
    "# Calculate each Inchikey per molecule\n",
    "for smiles in ext_stand_smile:\n",
    "    mol = Chem.MolFromSmiles(smiles)\n",
    "    inchikey = inchi.MolToInchiKey(mol)\n",
    "    inchikey_val_list.append(inchikey)"
   ]
  },
  {
   "cell_type": "code",
   "execution_count": 25,
   "metadata": {},
   "outputs": [],
   "source": [
    "# Store smile and inchikey in a zipped list\n",
    "final_val_data = list(zip(ext_stand_smile, inchikey_val_list1))\n",
    "\n",
    "# Write the data to the CSV file\n",
    "with open(\"../data/new_validation_data.csv\", 'w', newline='') as n:\n",
    "    csv_writer = csv.writer(n)\n",
    "    \n",
    "    # Write header\n",
    "    csv_writer.writerow(['smiles', 'inchikey'])\n",
    "    \n",
    "    # Write data\n",
    "    csv_writer.writerows(final_val_data)"
   ]
  },
  {
   "cell_type": "code",
   "execution_count": 26,
   "metadata": {},
   "outputs": [],
   "source": [
    "# Prepare the prediction for metrics evaluation\n",
    "\n",
    "# Extract the rows into a list for test set\n",
    "test_rows = ext_validation_set[\"Activity\"].squeeze().tolist()\n",
    "\n",
    "# Read the validation input file\n",
    "model_val_pred_file = \"../data/ext_val_smile_inchi.csv\"\n",
    "val_pred_data = pd.read_csv(model_val_pred_file, header=0)\n",
    "val_pred_prob = val_pred_data[\"probability\"].squeeze().tolist()\n",
    "\n",
    "val_pred_array = np.array([float(value) for value in val_pred_prob])\n",
    "auc_pred_array = np.delete(val_pred_array, 121)\n",
    "val_pred_list = np.where(val_pred_array > 0.5, 1, 0).tolist()\n",
    "\n",
    "#Create dataframe containing both probabilities\n",
    "val_test_prob = pd.DataFrame()\n",
    "val_test_prob[\"Test Probability\"] = test_rows\n",
    "val_test_prob[\"Model Probability\"] = val_pred_list\n",
    "new_val_test_prob = val_test_prob.drop(121)\n",
    "\n",
    "# Evaluate model using metrics below\n",
    "auc_val = roc_auc_score(new_val_test_prob[\"Test Probability\"], auc_pred_array)\n",
    "\n",
    "tn, fp, fn, tp = confusion_matrix(new_val_test_prob[\"Test Probability\"], new_val_test_prob[\"Model Probability\"]).ravel()\n",
    "specificity_val = tn / (tn + fp)\n",
    "sensitivity_val = tp / (tp + fn)\n",
    "NPV_val = tn / (tn + fn)\n",
    "PPV_val = tp / (tp + fp)\n",
    "\n",
    "Accuracy_val = balanced_accuracy_score(new_val_test_prob[\"Test Probability\"], new_val_test_prob[\"Model Probability\"])\n",
    "MCC_val = matthews_corrcoef(new_val_test_prob[\"Test Probability\"], new_val_test_prob[\"Model Probability\"])"
   ]
  },
  {
   "cell_type": "code",
   "execution_count": 27,
   "metadata": {},
   "outputs": [
    {
     "name": "stdout",
     "output_type": "stream",
     "text": [
      "Metric value on external dataset used on Ersilia Model Hub\n",
      "+------------------+---------+-------+------+------+-------+-------+-------+-------+-------+\n",
      "| Evaluation data  |  Method |  AUC  | MCC  | NPV  |  ACC  |  PPV  |  SPE  |  SEN  | B-ACC |\n",
      "+------------------+---------+-------+------+------+-------+-------+-------+-------+-------+\n",
      "| External dataset | eos2ta5 | 0.683 | 0.32 | 0.63 | 0.659 | 0.693 | 0.725 | 0.592 | 0.659 |\n",
      "+------------------+---------+-------+------+------+-------+-------+-------+-------+-------+\n"
     ]
    }
   ],
   "source": [
    "# Put values in a table\n",
    "ext_val_metric_table = PrettyTable([\"Evaluation data\", \"Method\", \"AUC\", \"MCC\", \"NPV\", \"ACC\", \"PPV\", \"SPE\", \"SEN\", \"B-ACC\"])\n",
    "\n",
    "ext_val_metric_data = [\"External dataset\", \"eos2ta5\", round(auc_val, 3), round(MCC_val, 3), round(NPV_val, 3), round(Accuracy_val, 3), \n",
    "                       round(PPV_val, 3), round(specificity_val, 3), round(sensitivity_val, 3), round(Accuracy_val, 3)]\n",
    "\n",
    "# Add the calculated values to the table created\n",
    "ext_val_metric_table.add_row(ext_val_metric_data)\n",
    "\n",
    "print(\"Metric value on external dataset used on Ersilia Model Hub\")\n",
    "\n",
    "# Print out the table\n",
    "print(ext_val_metric_table)"
   ]
  },
  {
   "cell_type": "code",
   "execution_count": 28,
   "metadata": {},
   "outputs": [
    {
     "data": {
      "image/png": "[encoded data removed]",
      "text/plain": [
       "<Figure size 640x480 with 1 Axes>"
      ]
     },
     "metadata": {},
     "output_type": "display_data"
    }
   ],
   "source": [
    "fpr, tpr, thresholds = roc_curve(new_val_test_prob[\"Test Probability\"], auc_pred_array)\n",
    "\n",
    "# Plot ROC_Curve\n",
    "plt.figure()\n",
    "\n",
    "plt.plot(fpr, tpr, color='green', lw=2, label='ROC curve')\n",
    "plt.plot([0, 1], [0, 1], lw=2, linestyle='--')\n",
    "plt.xlim([0.0, 1.0])\n",
    "plt.ylim([0.0, 1.05])\n",
    "\n",
    "plt.xlabel(\"False Positive Rate\")\n",
    "plt.ylabel(\"True Positive Rate\")\n",
    "plt.legend(loc='lower right')\n",
    "\n",
    "plt.title(\"ROC Curve\", pad=10)\n",
    "plt.show()"
   ]
  },
  {
   "cell_type": "code",
   "execution_count": null,
   "metadata": {},
   "outputs": [],
   "source": []
  }
 ],
 "metadata": {
  "kernelspec": {
   "display_name": "Python 3 (ipykernel)",
   "language": "python",
   "name": "python3"
  },
  "language_info": {
   "codemirror_mode": {
    "name": "ipython",
    "version": 3
   },
   "file_extension": ".py",
   "mimetype": "text/x-python",
   "name": "python",
   "nbconvert_exporter": "python",
   "pygments_lexer": "ipython3",
   "version": "3.7.16"
  }
 },
 "nbformat": 4,
 "nbformat_minor": 2
}
